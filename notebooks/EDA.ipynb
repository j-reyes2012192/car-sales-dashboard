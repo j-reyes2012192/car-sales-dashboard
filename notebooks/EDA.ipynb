{
 "cells": [
  {
   "cell_type": "code",
   "execution_count": null,
   "metadata": {},
   "outputs": [],
   "source": [
    "import pandas as pd\n",
    "import plotly.express as px\n",
    "\n",
    "# Cargar los datos\n",
    "car_data = pd.read_csv('../vehicles_us (1).csv')\n",
    "\n",
    "# Mostrar las primeras filas del dataframe\n",
    "car_data.head()\n",
    "\n",
    "fig_histogram = px.histogram(car_data, x=\"odometer\")\n",
    "fig_histogram.show()\n",
    "\n",
    "fig_scatter = px.scatter(car_data, x=\"odometer\", y=\"price\")\n",
    "fig_scatter.show()"
   ]
  }
 ],
 "metadata": {
  "language_info": {
   "name": "python"
  }
 },
 "nbformat": 4,
 "nbformat_minor": 2
}
